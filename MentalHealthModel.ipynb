{
  "nbformat": 4,
  "nbformat_minor": 0,
  "metadata": {
    "colab": {
      "provenance": [],
      "gpuType": "T4"
    },
    "kernelspec": {
      "name": "python3",
      "display_name": "Python 3"
    },
    "language_info": {
      "name": "python"
    },
    "accelerator": "GPU"
  },
  "cells": [
    {
      "cell_type": "code",
      "execution_count": 3,
      "metadata": {
        "id": "8AVEX_aZSE5D"
      },
      "outputs": [],
      "source": [
        "#Requirements\n",
        "import pandas as pd\n",
        "import numpy as np\n",
        "import matplotlib.pyplot as plt\n",
        "import seaborn as sns\n",
        "from sklearn.preprocessing import LabelEncoder, StandardScaler\n",
        "from sklearn.model_selection import train_test_split, cross_val_score\n",
        "from sklearn.metrics import classification_report, confusion_matrix, accuracy_score\n",
        "from sklearn.ensemble import RandomForestClassifier\n",
        "from sklearn.linear_model import LogisticRegression\n",
        "from sklearn.tree import DecisionTreeClassifier\n",
        "from sklearn.svm import SVC\n",
        "from sklearn.naive_bayes import GaussianNB\n",
        "from sklearn.neighbors import KNeighborsClassifier\n",
        "import xgboost as xgb\n",
        "import kagglehub\n",
        "import os\n"
      ]
    },
    {
      "cell_type": "code",
      "source": [
        "path = kagglehub.dataset_download(\"mahdimashayekhi/mental-health\")\n",
        "\n",
        "# Show full file structure\n",
        "for root, dirs, files in os.walk(path):\n",
        "    for file in files:\n",
        "        print(os.path.join(root, file))\n"
      ],
      "metadata": {
        "colab": {
          "base_uri": "https://localhost:8080/"
        },
        "id": "AyVWusZWWEjY",
        "outputId": "15e85994-e77d-42a3-908f-44719aeb4522"
      },
      "execution_count": 5,
      "outputs": [
        {
          "output_type": "stream",
          "name": "stdout",
          "text": [
            "/kaggle/input/mental-health/mental_health_dataset.csv\n"
          ]
        }
      ]
    },
    {
      "cell_type": "code",
      "source": [
        "df = pd.read_csv(path + '/mental_health_dataset.csv')"
      ],
      "metadata": {
        "id": "WwLtCbMxWIky"
      },
      "execution_count": 6,
      "outputs": []
    },
    {
      "cell_type": "code",
      "source": [
        "#Exploratory Data Analysis\n",
        "print(df.info())\n",
        "print(df.describe())\n",
        "print(df.isnull().sum())\n",
        "\n",
        "plt.figure(figsize=(10, 6))\n",
        "sns.countplot(x='work_environment', hue='seeks_treatment', data=df)\n",
        "plt.title('Work Environment vs Treatment Seeking')\n",
        "plt.xticks(rotation=45)\n",
        "plt.tight_layout()\n",
        "plt.show()\n"
      ],
      "metadata": {
        "colab": {
          "base_uri": "https://localhost:8080/",
          "height": 1000
        },
        "id": "moH34ONxXQnn",
        "outputId": "8bae64bf-42ca-4066-e4b8-2c9029023fe7"
      },
      "execution_count": 9,
      "outputs": [
        {
          "output_type": "stream",
          "name": "stdout",
          "text": [
            "<class 'pandas.core.frame.DataFrame'>\n",
            "RangeIndex: 10000 entries, 0 to 9999\n",
            "Data columns (total 14 columns):\n",
            " #   Column                  Non-Null Count  Dtype  \n",
            "---  ------                  --------------  -----  \n",
            " 0   age                     10000 non-null  int64  \n",
            " 1   gender                  10000 non-null  object \n",
            " 2   employment_status       10000 non-null  object \n",
            " 3   work_environment        10000 non-null  object \n",
            " 4   mental_health_history   10000 non-null  object \n",
            " 5   seeks_treatment         10000 non-null  object \n",
            " 6   stress_level            10000 non-null  int64  \n",
            " 7   sleep_hours             10000 non-null  float64\n",
            " 8   physical_activity_days  10000 non-null  int64  \n",
            " 9   depression_score        10000 non-null  int64  \n",
            " 10  anxiety_score           10000 non-null  int64  \n",
            " 11  social_support_score    10000 non-null  int64  \n",
            " 12  productivity_score      10000 non-null  float64\n",
            " 13  mental_health_risk      10000 non-null  object \n",
            "dtypes: float64(2), int64(6), object(6)\n",
            "memory usage: 1.1+ MB\n",
            "None\n",
            "                age  stress_level   sleep_hours  physical_activity_days  \\\n",
            "count  10000.000000  10000.000000  10000.000000            10000.000000   \n",
            "mean      41.557600      5.572000      6.473000                3.505700   \n",
            "std       13.749581      2.887741      1.473944                2.282737   \n",
            "min       18.000000      1.000000      3.000000                0.000000   \n",
            "25%       30.000000      3.000000      5.500000                2.000000   \n",
            "50%       41.500000      6.000000      6.500000                4.000000   \n",
            "75%       53.000000      8.000000      7.500000                5.000000   \n",
            "max       65.000000     10.000000     10.000000                7.000000   \n",
            "\n",
            "       depression_score  anxiety_score  social_support_score  \\\n",
            "count      10000.000000    10000.00000          10000.000000   \n",
            "mean          15.039900       10.56180             50.117700   \n",
            "std            8.990839        6.32264             29.229278   \n",
            "min            0.000000        0.00000              0.000000   \n",
            "25%            7.000000        5.00000             25.000000   \n",
            "50%           15.000000       11.00000             50.000000   \n",
            "75%           23.000000       16.00000             76.000000   \n",
            "max           30.000000       21.00000            100.000000   \n",
            "\n",
            "       productivity_score  \n",
            "count        10000.000000  \n",
            "mean            77.312210  \n",
            "std             14.061202  \n",
            "min             42.800000  \n",
            "25%             65.800000  \n",
            "50%             77.600000  \n",
            "75%             89.200000  \n",
            "max            100.000000  \n",
            "age                       0\n",
            "gender                    0\n",
            "employment_status         0\n",
            "work_environment          0\n",
            "mental_health_history     0\n",
            "seeks_treatment           0\n",
            "stress_level              0\n",
            "sleep_hours               0\n",
            "physical_activity_days    0\n",
            "depression_score          0\n",
            "anxiety_score             0\n",
            "social_support_score      0\n",
            "productivity_score        0\n",
            "mental_health_risk        0\n",
            "dtype: int64\n"
          ]
        },
        {
          "output_type": "display_data",
          "data": {
            "text/plain": [
              "<Figure size 1000x600 with 1 Axes>"
            ],
            "image/png": "[encoded data removed]"
          },
          "metadata": {}
        }
      ]
    },
    {
      "cell_type": "code",
      "source": [
        "# Label encoding\n",
        "from sklearn.preprocessing import LabelEncoder\n",
        "\n",
        "df_encoded = df.copy()\n",
        "categorical_cols = ['gender', 'employment_status', 'work_environment',\n",
        "                    'mental_health_history', 'seeks_treatment', 'mental_health_risk']\n",
        "\n",
        "le = LabelEncoder()\n",
        "for col in categorical_cols:\n",
        "    df_encoded[col] = le.fit_transform(df_encoded[col])"
      ],
      "metadata": {
        "id": "3RZpQipUX7Ov"
      },
      "execution_count": 10,
      "outputs": []
    },
    {
      "cell_type": "code",
      "source": [
        "# Features and target\n",
        "X = df_encoded.drop('mental_health_risk', axis=1)\n",
        "y = df_encoded['mental_health_risk']"
      ],
      "metadata": {
        "id": "zQ3lMqqnYP9R"
      },
      "execution_count": 11,
      "outputs": []
    },
    {
      "cell_type": "code",
      "source": [
        "#Creating train and test splits\n",
        "from sklearn.model_selection import train_test_split\n",
        "X_train, X_test, y_train, y_test = train_test_split(X, y, test_size=0.2, random_state=42, stratify=y)"
      ],
      "metadata": {
        "id": "QlvL1kMcYTHs"
      },
      "execution_count": 12,
      "outputs": []
    },
    {
      "cell_type": "code",
      "source": [
        "# Standardization\n",
        "from sklearn.preprocessing import StandardScaler\n",
        "scaler = StandardScaler()\n",
        "X_train = scaler.fit_transform(X_train)\n",
        "X_test = scaler.transform(X_test)"
      ],
      "metadata": {
        "id": "m5rx83UFYho5"
      },
      "execution_count": 13,
      "outputs": []
    },
    {
      "cell_type": "code",
      "source": [
        "# Using Random Forst Classifier\n",
        "from sklearn.ensemble import RandomForestClassifier\n",
        "from sklearn.metrics import classification_report, confusion_matrix, accuracy_score\n",
        "\n",
        "model = RandomForestClassifier(random_state=42)\n",
        "model.fit(X_train, y_train)\n",
        "y_pred = model.predict(X_test)\n"
      ],
      "metadata": {
        "id": "4ELMrHuNYmS0"
      },
      "execution_count": 14,
      "outputs": []
    },
    {
      "cell_type": "code",
      "source": [
        "#Evaluation of the model\n",
        "print(\"Accuracy:\", accuracy_score(y_test, y_pred))\n",
        "print(\"\\nClassification Report:\\n\", classification_report(y_test, y_pred))\n",
        "print(\"\\nConfusion Matrix:\\n\", confusion_matrix(y_test, y_pred))"
      ],
      "metadata": {
        "colab": {
          "base_uri": "https://localhost:8080/"
        },
        "id": "ZrsF6_O9Yuat",
        "outputId": "b2019f4b-ae40-4eaa-df7c-404f5db90766"
      },
      "execution_count": 15,
      "outputs": [
        {
          "output_type": "stream",
          "name": "stdout",
          "text": [
            "Accuracy: 0.976\n",
            "\n",
            "Classification Report:\n",
            "               precision    recall  f1-score   support\n",
            "\n",
            "           0       0.98      0.97      0.98       474\n",
            "           1       0.99      0.94      0.96       348\n",
            "           2       0.97      0.99      0.98      1178\n",
            "\n",
            "    accuracy                           0.98      2000\n",
            "   macro avg       0.98      0.97      0.97      2000\n",
            "weighted avg       0.98      0.98      0.98      2000\n",
            "\n",
            "\n",
            "Confusion Matrix:\n",
            " [[ 461    0   13]\n",
            " [   0  326   22]\n",
            " [  10    3 1165]]\n"
          ]
        }
      ]
    }
  ]
}